{
 "cells": [
  {
   "cell_type": "code",
   "execution_count": null,
   "metadata": {},
   "outputs": [],
   "source": [
    "import cv2\n",
    "import numpy as np\n",
    "import torch\n",
    "import easyocr\n",
    "%matplotlib inline\n",
    "import matplotlib.pyplot as plt\n",
    "import imutils\n",
    "reader = easyocr.Reader(['en'])"
   ]
  },
  {
   "cell_type": "code",
   "execution_count": null,
   "metadata": {},
   "outputs": [],
   "source": [
    "device = torch.device('cuda' if torch.cuda.is_available() else \"cpu\")\n",
    "licensePlateModel = torch.hub.load(r'E:\\IAMDAT\\Workplace\\DOANCUOIKY\\ok\\yolov5', 'custom', path=r'E:\\IAMDAT\\Workplace\\DOANCUOIKY\\FinalVersion\\models\\best_lp_2.pt', source='local').to(device)"
   ]
  },
  {
   "cell_type": "code",
   "execution_count": null,
   "metadata": {},
   "outputs": [],
   "source": [
    "img = cv2.imread(r'E:\\IAMDAT\\Workplace\\DOANCUOIKY\\ok\\LisencePlateRecognition\\sub_images\\42.jpg')\n",
    "\n",
    "def get_plate(img):\n",
    "\n",
    "    img = cv2.cvtColor(img, cv2.COLOR_BGR2GRAY)\n",
    "    bbox = licensePlateModel(img).pandas().xyxy[0].to_numpy()\n",
    "    bbox = bbox[bbox[:,5]==max(bbox[:,5])][0]\n",
    "    xmin, ymin, xmax, ymax = bbox[0:4]\n",
    "    img_license_plate = img[int(ymin):int(ymax), int(xmin):int(xmax)]\t\n",
    "    return img_license_plate\n",
    "\n",
    "def GDS(arr):\n",
    "    gds = []\n",
    "    mean = np.mean(arr)\n",
    "    std = np.std(arr)\n",
    "    th=3\n",
    "    new_arr = [arr[0]]*th + list(arr.copy()) + [arr[-1]]*th\n",
    "    print(len(new_arr))\n",
    "    print(len(arr))\n",
    "    p_max, p_min = mean+std, mean-std\n",
    "    for i in range(th, len(new_arr)-th):\n",
    "        if ((new_arr[i]<np.mean(new_arr[i-th:i]) and new_arr[i]>np.mean(new_arr[i:i+th])) or (new_arr[i]>np.mean(new_arr[i-th:i]) and new_arr[i]<np.mean(new_arr[i:i+th]))) and new_arr[i]<= p_max and new_arr[i]>=p_min:\n",
    "            gds.append(i-th)\n",
    "    return gds \n",
    "def getHandelArea(arr):\n",
    "    gds = [0,0]\n",
    "    mean = np.mean(arr)\n",
    "    std = np.std(arr)\n",
    "    th = 1\n",
    "    p_max, p_min = mean+std, mean-std\n",
    "\n",
    "    for i in range(th, len(arr)-th):\n",
    "        \n",
    "        if  (arr[i-th]>arr[i] and arr[i+th]<arr[i]) and arr[i]<= p_max and arr[i]>=p_min:\n",
    "            if gds[0]==0:\n",
    "                gds[0] = i\n",
    "            else:\n",
    "                gds[1] = i\n",
    "    return gds\n",
    "def applySummFunctin(img, axis = 1):\n",
    "    res = np.sum(img, axis = axis)    #  summ elements in columns\n",
    "    return res\n",
    "\n",
    "\n",
    "# def get_plate(img):\n",
    "#     img = cv2.cvtColor(img, cv2.COLOR_BGR2GRAY)\n",
    "#     bbox = licensePlateModel(img).pandas().xyxy[0].to_numpy()\n",
    "#     bbox = bbox[bbox[:,5]==max(bbox[:,5])][0]\n",
    "#     xmin, ymin, xmax, ymax = bbox[0:4]\n",
    "#     img_license_plate = img[int(ymin):int(ymax), int(xmin):int(xmax)]\t\n",
    "\n",
    "\n",
    "#     sum_1 = applySummFunctin(img_license_plate, axis =1)\n",
    "#     sum_0 = applySummFunctin(img_license_plate, axis =0)\n",
    "#     gds1 = GDS(sum_1)\n",
    "#     gds0 = GDS(sum_0)\n",
    "#     sub = img_license_plate[ gds1[0]:gds1[-1], gds0[0]:gds0[-1]]\n",
    "    \n",
    "#     print(reader.readtext(img_license_plate))\n",
    "#     return img_license_plate"
   ]
  },
  {
   "cell_type": "code",
   "execution_count": null,
   "metadata": {},
   "outputs": [],
   "source": [
    "img = cv2.imread(r'E:\\IAMDAT\\Workplace\\DOANCUOIKY\\ok\\LisencePlateRecognition\\sub_images\\42.jpg')\n",
    "\n",
    "plt.imshow(get_plate(img))"
   ]
  },
  {
   "cell_type": "code",
   "execution_count": null,
   "metadata": {},
   "outputs": [],
   "source": [
    "i = 6\n",
    "vehicle =  cv2.imread(r'E:\\IAMDAT\\Workplace\\DOANCUOIKY\\ok\\LisencePlateRecognition\\sub_images\\42.jpg')\n",
    "plate = get_plate(vehicle)\n",
    "from sklearn.cluster import KMeans\n",
    "\n",
    "# model = KMeans(n_clusters=2).fit(plate.reshape((-1,1)))\n",
    "# plate = model.predict(plate.reshape((-1,1))).reshape(plate.shape)\n",
    "# if model.cluster_centers_[0]>model.cluster_centers_[1]:\n",
    "#     plate = 1-plate\n",
    "# plt.imshow(plate,'gray')\n",
    "\n"
   ]
  },
  {
   "cell_type": "code",
   "execution_count": null,
   "metadata": {},
   "outputs": [],
   "source": [
    "plt.imshow(plate,'gray')"
   ]
  },
  {
   "cell_type": "code",
   "execution_count": null,
   "metadata": {},
   "outputs": [],
   "source": [
    "reader.readtext(plate)\n"
   ]
  },
  {
   "cell_type": "code",
   "execution_count": null,
   "metadata": {},
   "outputs": [],
   "source": [
    "sum_1 = applySummFunctin(plate, axis =1)\n",
    "sum_0 = applySummFunctin(plate, axis =0)"
   ]
  },
  {
   "cell_type": "code",
   "execution_count": null,
   "metadata": {},
   "outputs": [],
   "source": [
    "plt.plot(sum_0)"
   ]
  },
  {
   "cell_type": "code",
   "execution_count": null,
   "metadata": {},
   "outputs": [],
   "source": [
    "plt.plot(sum_1)"
   ]
  },
  {
   "cell_type": "code",
   "execution_count": null,
   "metadata": {},
   "outputs": [],
   "source": [
    "sum_1 = applySummFunctin(plate, axis =1)\n",
    "sum_0 = applySummFunctin(plate, axis =0)\n",
    "gds1 = GDS(sum_1)\n",
    "gds0 = GDS(sum_0)\n",
    "sub = plate[ gds1[0]:gds1[-1], gds0[0]:gds0[-1]]\n"
   ]
  },
  {
   "cell_type": "code",
   "execution_count": null,
   "metadata": {},
   "outputs": [],
   "source": [
    "[1,2]*2+[1,2,3]"
   ]
  },
  {
   "cell_type": "code",
   "execution_count": null,
   "metadata": {},
   "outputs": [],
   "source": [
    "gds1"
   ]
  },
  {
   "cell_type": "code",
   "execution_count": null,
   "metadata": {},
   "outputs": [],
   "source": [
    "plt.imshow(sub, 'gray')"
   ]
  },
  {
   "cell_type": "code",
   "execution_count": null,
   "metadata": {},
   "outputs": [],
   "source": [
    "def change_to_binary(img):\n",
    "    kmeans = KMeans(n_clusters=2, random_state=0).fit(img.reshape((-1,1)))\n",
    "    predict = kmeans.predict(img.reshape((-1,1))).reshape(img.shape)\n",
    "    centers = kmeans.cluster_centers_\n",
    "    if centers[0]>centers[1]:\n",
    "        predict = 1-predict\n",
    "    return predict\n",
    "\n",
    "\n",
    "binary = change_to_binary(sub)\n",
    "plt.imshow(binary,'gray')\n",
    "\n"
   ]
  },
  {
   "cell_type": "code",
   "execution_count": null,
   "metadata": {},
   "outputs": [],
   "source": [
    "numberLoc = np.where(binary==1)\n",
    "numberLoc\n",
    "x_train = np.concatenate([numberLoc[0].reshape((-1,1)), numberLoc[1].reshape((-1,1))], axis = 1)\n",
    "x_train.shape\n"
   ]
  },
  {
   "cell_type": "code",
   "execution_count": null,
   "metadata": {},
   "outputs": [],
   "source": [
    "kmeans = KMeans(n_clusters=8, random_state=0).fit(x_train)\n",
    "predict = kmeans.predict(x_train)"
   ]
  },
  {
   "cell_type": "code",
   "execution_count": null,
   "metadata": {},
   "outputs": [],
   "source": [
    "cls1 = x_train[predict==2]"
   ]
  },
  {
   "cell_type": "code",
   "execution_count": null,
   "metadata": {},
   "outputs": [],
   "source": [
    "x1,y1,x2,y2 = np.min(cls1[0]),np.min(cls1[1]),np.max(cls1[0]),np.max(cls1[1])"
   ]
  },
  {
   "cell_type": "code",
   "execution_count": null,
   "metadata": {},
   "outputs": [],
   "source": [
    "plt.imshow(sub[x1:x2, y1:y2])"
   ]
  },
  {
   "cell_type": "code",
   "execution_count": null,
   "metadata": {},
   "outputs": [],
   "source": [
    "# binary[binary!=0] = 1.\n",
    "plt.imshow(binary,'gray')"
   ]
  },
  {
   "cell_type": "code",
   "execution_count": null,
   "metadata": {},
   "outputs": [],
   "source": [
    "reader.readtext(sub)"
   ]
  },
  {
   "cell_type": "code",
   "execution_count": null,
   "metadata": {},
   "outputs": [],
   "source": [
    "from sklearn.cluster import KMeans\n",
    "\n",
    "\n",
    "def splitLine(img):\n",
    "    kmeans = KMeans(n_clusters=2, random_state=0).fit(img.reshape((-1,1)))\n",
    "    predict = kmeans.predict(img.reshape((-1,1))).reshape(img.shape)\n",
    "    centers = kmeans.cluster_centers_\n",
    "    if centers[0]>centers[1]:\n",
    "        predict = 1-predict\n",
    "\n",
    "    s1 = applySummFunctin(img, axis =1)\n",
    "    lst_max = np.where(s1== max(s1))[0]\n",
    "    deadline = lst_max[int(len(lst_max)/2)]\n",
    "    if deadline<(1/3)*len(s1) - deadline or deadline>(1/3)*len(s1) - deadline :\n",
    "        deadline = int(len(s1)/2)\n",
    "    line1 = predict[0:deadline,:]\n",
    "    line2 = predict[deadline:-1,:]\n",
    "    return line1, line2"
   ]
  },
  {
   "cell_type": "code",
   "execution_count": null,
   "metadata": {},
   "outputs": [],
   "source": [
    "l1,l2 = splitLine(sub)\n",
    "plt.imshow(l1,'gray')"
   ]
  },
  {
   "cell_type": "code",
   "execution_count": null,
   "metadata": {},
   "outputs": [],
   "source": [
    "plt.imshow(l2,'gray')"
   ]
  },
  {
   "cell_type": "code",
   "execution_count": null,
   "metadata": {},
   "outputs": [],
   "source": [
    "from sklearn.cluster import KMeans\n",
    "\n",
    "\n",
    "model = KMeans(n_clusters=2).fit(l2.reshape((-1,1)))\n",
    "binary = model.predict(l2.reshape(-1,1)).reshape(l2.shape)\n",
    "if model.cluster_centers_[0]>model.cluster_centers_[1]:\n",
    "    binary = 1-binary\n",
    "plt.imshow(binary,'gray')\n"
   ]
  },
  {
   "cell_type": "code",
   "execution_count": null,
   "metadata": {},
   "outputs": [],
   "source": [
    "s0 = applySummFunctin(binary, axis =0)\n",
    "plt.plot(s0)"
   ]
  },
  {
   "cell_type": "code",
   "execution_count": null,
   "metadata": {},
   "outputs": [],
   "source": [
    "plt.imshow(binary[:,80:98])"
   ]
  },
  {
   "cell_type": "code",
   "execution_count": null,
   "metadata": {},
   "outputs": [],
   "source": [
    "def get_location_of_char(arr):\n",
    "    locations = []\n",
    "    lst = []\n",
    "    max= np.max(arr)\n",
    "    arr_tf =  arr>max-3 \n",
    "    print(max)\n",
    "    print(arr)\n",
    "    print(arr_tf)\n",
    "    print(len(arr_tf))\n",
    "    for i in range(len(arr_tf)):\n",
    "        if arr_tf[i]==False and i!=len(arr_tf)-1:\n",
    "            lst.append(i)\n",
    "        elif arr_tf[i]==True:\n",
    "            if len(lst)<3:\n",
    "                lst = []\n",
    "            else:\n",
    "                locations.append([lst[0], lst[-1]])\n",
    "                lst = []\n",
    "        else:\n",
    "            lst.append(i)\n",
    "            locations.append([lst[0], lst[-1]])\n",
    "            lst = []\n",
    "    return locations\n"
   ]
  },
  {
   "cell_type": "code",
   "execution_count": null,
   "metadata": {},
   "outputs": [],
   "source": [
    "gds = get_location_of_char(s0)\n",
    "gds\n"
   ]
  },
  {
   "cell_type": "code",
   "execution_count": null,
   "metadata": {},
   "outputs": [],
   "source": [
    "chars = []\n",
    "for i in gds:\n",
    "    chars.append(l2[:,i[0]-1:i[1]+1]) "
   ]
  },
  {
   "cell_type": "code",
   "execution_count": null,
   "metadata": {},
   "outputs": [],
   "source": [
    "plt.imshow(chars[5],'gray')"
   ]
  },
  {
   "cell_type": "code",
   "execution_count": null,
   "metadata": {},
   "outputs": [],
   "source": []
  },
  {
   "cell_type": "code",
   "execution_count": null,
   "metadata": {},
   "outputs": [],
   "source": [
    "\n",
    "from sklearn.cluster import KMeans\n",
    "import cv2\n",
    "import numpy as np\n",
    "import torch\n",
    "import logging\n",
    "\n",
    "device = torch.device('cuda' if torch.cuda.is_available() else \"cpu\")\n",
    "licensePlateModel = torch.hub.load(r'E:\\IAMDAT\\Workplace\\DOANCUOIKY\\ok\\yolov5', 'custom', path=r'E:\\IAMDAT\\Workplace\\DOANCUOIKY\\FinalVersion\\models\\best_lp_2.pt', source='local').to(device)\n",
    "\n",
    "img = cv2.imread(r'E:\\IAMDAT\\Workplace\\DOANCUOIKY\\FinalVersion\\images\\vehicle\\1649857050.246679.jpg')\n",
    "\n",
    "\n",
    "\n",
    "def GDS(arr):\n",
    "    gds = []\n",
    "    mean = np.mean(arr)\n",
    "    std = np.std(arr)\n",
    "    th=3\n",
    "    new_arr = [arr[0]]*th + list(arr.copy()) + [arr[-1]]*th\n",
    "    p_max, p_min = mean+std, mean-std\n",
    "    for i in range(th, len(new_arr)-th):\n",
    "        if ((new_arr[i]<np.mean(new_arr[i-th:i]) and new_arr[i]>np.mean(new_arr[i:i+th])) or (new_arr[i]>np.mean(new_arr[i-th:i]) and new_arr[i]<np.mean(new_arr[i:i+th]))) and new_arr[i]<= p_max and new_arr[i]>=p_min:\n",
    "            gds.append(i-th)\n",
    "    return gds \n",
    "\n",
    "\n",
    "# def GDS(arr):\n",
    "#     gds = []\n",
    "#     mean = np.mean(arr)\n",
    "#     std = np.std(arr)\n",
    "#     th=3\n",
    "#     p_max, p_min = mean+std, mean-std\n",
    "#     for i in range(th, len(arr)-th):\n",
    "#         if ((arr[i]<np.mean(arr[i-th:i]) and arr[i]>np.mean(arr[i:i+th])) or (arr[i]>np.mean(arr[i-th:i]) and arr[i]<np.mean(arr[i:i+th]))) and arr[i]<= p_max and arr[i]>=p_min:\n",
    "#             gds.append(i)\n",
    "#     return gds\n",
    "\n",
    "def applySummFunctin(img, axis = 1):\n",
    "    res = np.sum(img, axis = axis)    #  summ elements in columns\n",
    "    return res\n",
    "\n",
    "def get_plate(img):\n",
    "    err=  None\n",
    "    img = cv2.cvtColor(img, cv2.COLOR_BGR2GRAY)\n",
    "    bbox = licensePlateModel(img).pandas().xyxy[0].to_numpy()\n",
    "    if len(bbox) == 0:\n",
    "        err = 'Can\\'t detect license plate'\n",
    "        logging.exception(err)\n",
    "        return None, err\n",
    "    bbox = bbox[bbox[:,5]==np.max(bbox[:,5])][0]\n",
    "    xmin, ymin, xmax, ymax = bbox[0:4]\n",
    "    img_license_plate = img[int(ymin):int(ymax), int(xmin):int(xmax)]\t\n",
    "    return img_license_plate, err\n",
    "\n",
    "\n",
    "\n",
    "\n",
    "\n",
    "def change_to_binary(img):\n",
    "    kmeans = KMeans(n_clusters=2, random_state=0).fit(img.reshape((-1,1)))\n",
    "    predict = kmeans.predict(img.reshape((-1,1))).reshape(img.shape)\n",
    "    centers = kmeans.cluster_centers_\n",
    "    if centers[0]>centers[1]:\n",
    "        predict = 1-predict\n",
    "    return predict\n",
    "\n",
    "# def splitLine(img):\n",
    "    \n",
    "#     predict = change_to_binary(img)\n",
    "#     s1 = applySummFunctin(img, axis =1)\n",
    "#     lst_max = np.where(s1== max(s1))[0]\n",
    "#     deadline = lst_max[int(len(lst_max)/2)]\n",
    "#     line1_binary = predict[0:deadline,:]\n",
    "#     line2_binary = predict[deadline:-1,:]\n",
    "#     line1  = img[0:deadline,:]\n",
    "#     line2 = img[deadline:-1,:]\n",
    "#     return [line1, line2],[line1_binary, line2_binary]\n",
    "\n",
    "\n",
    "def splitLine(img):\n",
    "    kmeans = KMeans(n_clusters=2, random_state=0).fit(img.reshape((-1,1)))\n",
    "    predict = kmeans.predict(img.reshape((-1,1))).reshape(img.shape)\n",
    "    centers = kmeans.cluster_centers_\n",
    "    if centers[0]>centers[1]:\n",
    "        predict = 1-predict\n",
    "\n",
    "    s1 = applySummFunctin(img, axis =1)\n",
    "    lst_max = np.where(s1== max(s1))[0]\n",
    "    deadline = lst_max[int(len(lst_max)/2)]\n",
    "    if deadline<(1/3)*len(s1) - deadline or deadline>(1/3)*len(s1) - deadline :\n",
    "        deadline = int(len(s1)/2)\n",
    "\n",
    "    \n",
    "    \n",
    "\n",
    "    line1 = img[0:deadline,:]\n",
    "    sum01 = applySummFunctin(line1, axis =0)\n",
    "    gds01 = GDS(sum01)\n",
    "    line1 = line1[ :, gds01[0]:gds01[-1]]\n",
    "\n",
    "    line2 = img[deadline:-1,:]\n",
    "    sum02 = applySummFunctin(line2, axis =0)\n",
    "    gds02 = GDS(sum02)\n",
    "    line2 = line2[ :, gds02[0]:gds02[-1]]\n",
    "\n",
    "\n",
    "\n",
    "    line1_binary = predict[0:deadline,gds01[0]:gds01[-1]]\n",
    "    line2_binary = predict[deadline:-1,gds02[0]:gds02[-1]]\n",
    "    return [line1, line2],[line1_binary, line2_binary]\n",
    "\n",
    "\n",
    "def get_location_of_char(line):\n",
    "\n",
    "    arr = applySummFunctin(line, axis =0)\n",
    "    locations = []\n",
    "    lst = []\n",
    "\n",
    "    mean = np.mean(arr)\n",
    "    arr_tf =  arr>= mean \n",
    "    for i in range(len(arr_tf)):\n",
    "        if arr_tf[i]==False and i!=len(arr_tf)-1:\n",
    "            lst.append(i)\n",
    "\n",
    "        elif arr_tf[i]==True:\n",
    "            if  i!=len(arr_tf)-1 and arr_tf[i+1]==False and len(lst)<len(arr)/10:\n",
    "                continue\n",
    "            if len(lst)<4:\n",
    "                lst = []\n",
    "            else:\n",
    "                locations.append([lst[0], lst[-1]])\n",
    "                lst = []\n",
    "        else:\n",
    "            lst.append(i)\n",
    "            locations.append([lst[0], lst[-1]])\n",
    "            lst = []\n",
    "\n",
    "    return locations\n",
    "\n",
    "def getCharInPlate(img):\n",
    "    chars= []\n",
    "    plate, err = get_plate(img)\n",
    "    if err != None:\n",
    "        return chars\n",
    "    sum_1 = applySummFunctin(plate, axis =1)\n",
    "    # sum_0 = applySummFunctin(plate, axis =0)\n",
    "    gds1 = GDS(sum_1)\n",
    "    # gds0 = GDS(sum_0)\n",
    "    sub = plate[ gds1[0]:gds1[-1],:]\n",
    "    if (sub.shape[0]/sub.shape[1])>(1/3):\n",
    "        lines, lines_b = splitLine(sub)\n",
    "    else:\n",
    "        lines, lines_b = [sub],[change_to_binary(sub)]\n",
    "    for ind in range(len(lines)):\n",
    "        # s0 = applySummFunctin(, axis =0)\n",
    "\n",
    "        gds = get_location_of_char(lines_b[ind])\n",
    "        for i in gds:\n",
    "            if i[0]>2:\n",
    "                img_line = lines[ind][:,i[0]-2:i[1]+2]\n",
    "            else:\n",
    "                img_line = lines[ind][:,i[0]:i[1]]\n",
    "            scale_percent = 400 # percent of original size\n",
    "            width = int(img_line.shape[1] * scale_percent / 100)\n",
    "            height = int(img_line.shape[0] * scale_percent / 100)\n",
    "            dim = (width, height)\n",
    "            # resize image\n",
    "            resized = cv2.resize(img_line, dim, interpolation = cv2.INTER_AREA)\n",
    "            chars.append(resized)\n",
    "    return chars\n"
   ]
  },
  {
   "cell_type": "code",
   "execution_count": null,
   "metadata": {},
   "outputs": [],
   "source": [
    "plt.imshow(getCharInPlate(img)[5],'gray')\n",
    "img.shape"
   ]
  },
  {
   "cell_type": "code",
   "execution_count": null,
   "metadata": {},
   "outputs": [],
   "source": [
    "plt.imshow(img)"
   ]
  },
  {
   "cell_type": "code",
   "execution_count": null,
   "metadata": {},
   "outputs": [],
   "source": [
    "from torch import nn\n",
    "import torch.nn.functional as F\n",
    "class Net(nn.Module):\n",
    "    def __init__(self):\n",
    "        super().__init__()\n",
    "        #40 40\n",
    "        self.conv1 = nn.Conv2d(1, 6, 3)\n",
    "        self.pool = nn.MaxPool2d(2, 2)\n",
    "        self.conv2 = nn.Conv2d(6, 16, 3)\n",
    "        self.fc1 = nn.Linear(16 * 8 * 8, 120)\n",
    "        self.fc2 = nn.Linear(120, 31)\n",
    "\n",
    "    def forward(self, x):\n",
    "        x = self.pool(F.relu(self.conv1(x)))#6 20 20\n",
    "        x = self.pool(F.relu(self.conv2(x)))# 16 10 10\n",
    "        x = torch.flatten(x, 1) # flatten all dimensions except batch\n",
    "        x = F.relu(self.fc1(x))\n",
    "        x = self.fc2(x)\n",
    "        return x\n",
    "\n",
    "\n",
    "net = Net()\n",
    "\n",
    "net.load_state_dict(torch.load(r'E:\\IAMDAT\\Workplace\\DOANCUOIKY\\FinalVersion\\models\\classification1.pth'))\n",
    "net.eval()\n",
    "\n",
    "\n"
   ]
  },
  {
   "cell_type": "code",
   "execution_count": null,
   "metadata": {},
   "outputs": [],
   "source": [
    "# plt.imshow(getCharInPlate(img)[5],'gray')\n",
    "\n",
    "import os\n",
    "import time\n",
    "\n",
    "t= []\n",
    "def getCharInPlateForSave(img, path_save):\n",
    "    chars= []\n",
    "    plate, err = get_plate(img)\n",
    "    if err != None:\n",
    "        return chars, err\n",
    "    sum_1 = applySummFunctin(plate, axis =1)\n",
    "    sum_0 = applySummFunctin(plate, axis =0)\n",
    "    gds1 = GDS(sum_1)\n",
    "    gds0 = GDS(sum_0)\n",
    "    sub = plate[ gds1[0]:gds1[-1], gds0[0]:gds0[-1]]\n",
    "    if (sub.shape[0]/sub.shape[1])>(1/3):\n",
    "        lines, lines_b = splitLine(sub)\n",
    "    else:\n",
    "        lines, lines_b = [sub],[change_to_binary(sub)]\n",
    "    for ind in range(len(lines)):\n",
    "        gds = get_location_of_char(lines_b[ind])\n",
    "        for i in gds:\n",
    "            if i[0]>3:\n",
    "                img_line = lines[ind][:,i[0]-3:i[1]+3]\n",
    "            elif i[0]>2:\n",
    "                img_line = lines[ind][:,i[0]-2:i[1]+2]\n",
    "            else:\n",
    "                img_line = lines[ind][:,i[0]:i[1]]\n",
    "            scale_percent = 400 # percent of original size\n",
    "            width = int(img_line.shape[1] * scale_percent / 100)\n",
    "            height = int(img_line.shape[0] * scale_percent / 100)\n",
    "            dim = (width, height)\n",
    "            # resize image\n",
    "            resized = cv2.resize(img_line, dim, interpolation = cv2.INTER_AREA)\n",
    "            path = path_save+str(time.time()).replace('.','')+'.jpg'\n",
    "            cv2.imwrite(path, resized)\n",
    "            chars.append(lines[ind][:,i[0]-2:i[1]+2]) \n",
    "    return chars, None\n",
    "\n",
    "\n",
    "\n",
    "\n",
    "lisr_dir = [os.path.join('../images/vehicle',i) for i in os.listdir('../images/vehicle')]\n",
    "img = cv2.imread(lisr_dir[0])\n",
    "for i in lisr_dir:\n",
    "    img = cv2.imread(i)\n",
    "    _, err = getCharInPlateForSave(img,'../images/data/')\n",
    "    if err != None:\n",
    "        print(i)\n",
    "    \n"
   ]
  },
  {
   "cell_type": "markdown",
   "metadata": {},
   "source": []
  },
  {
   "cell_type": "code",
   "execution_count": null,
   "metadata": {},
   "outputs": [],
   "source": [
    "np.mean(np.array(t),0)"
   ]
  },
  {
   "cell_type": "code",
   "execution_count": null,
   "metadata": {},
   "outputs": [],
   "source": [
    "s = '0123456789ABCDEFGHKLMNPRSTUVXYZ'  \n",
    "\n",
    "for i in s:\n",
    "    path = os.path.join('../images/New folder', i)\n",
    "    os.mkdir(path)"
   ]
  },
  {
   "cell_type": "code",
   "execution_count": null,
   "metadata": {},
   "outputs": [],
   "source": [
    "for i in range(10):\n",
    "    print(i)\n",
    "    if i==5:\n",
    "        i-=1"
   ]
  },
  {
   "cell_type": "code",
   "execution_count": null,
   "metadata": {},
   "outputs": [],
   "source": [
    "img = cv2.imread(r'E:\\IAMDAT\\IUH\\KyThuatLapTrinh\\code\\KiemTraThucHanhII\\The-figure-shows-some-training-and-testing-samples-from-the-Multi-Style-License-Plate.png')\n",
    "plt.imshow(img)"
   ]
  },
  {
   "cell_type": "code",
   "execution_count": null,
   "metadata": {},
   "outputs": [],
   "source": [
    "s = '0123456789ABCDEFGHKLMNPRSTUVXYZ'\n",
    "for i in s[19:]:\n",
    "    print(i)"
   ]
  },
  {
   "cell_type": "code",
   "execution_count": null,
   "metadata": {},
   "outputs": [],
   "source": [
    "len(s)"
   ]
  },
  {
   "cell_type": "code",
   "execution_count": null,
   "metadata": {},
   "outputs": [],
   "source": []
  }
 ],
 "metadata": {
  "interpreter": {
   "hash": "2c5162f4330e5a08843439af36f076d864bbc634ce564c8238d7f8c62bd127df"
  },
  "kernelspec": {
   "display_name": "Python 3 (ipykernel)",
   "language": "python",
   "name": "python3"
  },
  "language_info": {
   "codemirror_mode": {
    "name": "ipython",
    "version": 3
   },
   "file_extension": ".py",
   "mimetype": "text/x-python",
   "name": "python",
   "nbconvert_exporter": "python",
   "pygments_lexer": "ipython3",
   "version": "3.9.8"
  }
 },
 "nbformat": 4,
 "nbformat_minor": 2
}
