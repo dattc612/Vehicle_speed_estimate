{
 "cells": [
  {
   "cell_type": "code",
   "execution_count": 5,
   "metadata": {},
   "outputs": [],
   "source": [
    "import cv2\n",
    "import numpy as np\n",
    "import torch\n",
    "import easyocr\n",
    "%matplotlib inline\n",
    "import matplotlib.pyplot as plt\n",
    "import imutils\n",
    "reader = easyocr.Reader(['en'])"
   ]
  },
  {
   "cell_type": "code",
   "execution_count": 2,
   "metadata": {},
   "outputs": [
    {
     "name": "stderr",
     "output_type": "stream",
     "text": [
      "YOLOv5  2022-3-15 torch 1.11.0+cu113 CUDA:0 (Quadro M500M, 2048MiB)\n",
      "\n",
      "Fusing layers... \n",
      "Model Summary: 213 layers, 1760518 parameters, 0 gradients\n",
      "Adding AutoShape... \n"
     ]
    }
   ],
   "source": [
    "device = torch.device('cuda' if torch.cuda.is_available() else \"cpu\")\n",
    "licensePlateModel = torch.hub.load(r'E:\\IAMDAT\\Workplace\\DOANCUOIKY\\ok\\yolov5', 'custom', path=r'E:\\IAMDAT\\Workplace\\DOANCUOIKY\\ok\\models\\best_lp.pt', source='local').to(device)"
   ]
  },
  {
   "cell_type": "code",
   "execution_count": 8,
   "metadata": {},
   "outputs": [],
   "source": [
    "img = cv2.imread(r'E:\\IAMDAT\\Workplace\\DOANCUOIKY\\ok\\LisencePlateRecognition\\sub_images\\42.jpg')\n",
    "\n",
    "def get_plate(img):\n",
    "\n",
    "    img = cv2.cvtColor(img, cv2.COLOR_BGR2GRAY)\n",
    "    bbox = licensePlateModel(img).pandas().xyxy[0].to_numpy()\n",
    "    bbox = bbox[bbox[:,5]==max(bbox[:,5])][0]\n",
    "    xmin, ymin, xmax, ymax = bbox[0:4]\n",
    "    img_license_plate = img[int(ymin):int(ymax), int(xmin):int(xmax)]\t\n",
    "    return img_license_plate\n",
    "\n",
    "def GDS(arr):\n",
    "    gds = []\n",
    "    mean = np.mean(arr)\n",
    "    std = np.std(arr)\n",
    "    th=3\n",
    "    p_max, p_min = mean+std, mean-std\n",
    "    for i in range(th, len(arr)-th):\n",
    "        if ((arr[i]<np.mean(arr[i-th:i]) and arr[i]>np.mean(arr[i:i+th])) or (arr[i]>np.mean(arr[i-th:i]) and arr[i]<np.mean(arr[i:i+th]))) and arr[i]<= p_max and arr[i]>=p_min:\n",
    "            gds.append(i)\n",
    "    return gds\n",
    "def getHandelArea(arr):\n",
    "    gds = [0,0]\n",
    "    mean = np.mean(arr)\n",
    "    std = np.std(arr)\n",
    "    th = 1\n",
    "    p_max, p_min = mean+std, mean-std\n",
    "\n",
    "    for i in range(th, len(arr)-th):\n",
    "        \n",
    "        if  (arr[i-th]>arr[i] and arr[i+th]<arr[i]) and arr[i]<= p_max and arr[i]>=p_min:\n",
    "            if gds[0]==0:\n",
    "                gds[0] = i\n",
    "            else:\n",
    "                gds[1] = i\n",
    "    return gds\n",
    "def applySummFunctin(img, axis = 1):\n",
    "    res = np.sum(img, axis = axis)    #  summ elements in columns\n",
    "    return res\n",
    "\n",
    "\n",
    "# def get_plate(img):\n",
    "#     img = cv2.cvtColor(img, cv2.COLOR_BGR2GRAY)\n",
    "#     bbox = licensePlateModel(img).pandas().xyxy[0].to_numpy()\n",
    "#     bbox = bbox[bbox[:,5]==max(bbox[:,5])][0]\n",
    "#     xmin, ymin, xmax, ymax = bbox[0:4]\n",
    "#     img_license_plate = img[int(ymin):int(ymax), int(xmin):int(xmax)]\t\n",
    "\n",
    "\n",
    "#     sum_1 = applySummFunctin(img_license_plate, axis =1)\n",
    "#     sum_0 = applySummFunctin(img_license_plate, axis =0)\n",
    "#     gds1 = GDS(sum_1)\n",
    "#     gds0 = GDS(sum_0)\n",
    "#     sub = img_license_plate[ gds1[0]:gds1[-1], gds0[0]:gds0[-1]]\n",
    "    \n",
    "#     print(reader.readtext(img_license_plate))\n",
    "#     return img_license_plate"
   ]
  },
  {
   "cell_type": "code",
   "execution_count": 83,
   "metadata": {},
   "outputs": [
    {
     "data": {
      "text/plain": [
       "<matplotlib.image.AxesImage at 0x2d5307c1730>"
      ]
     },
     "execution_count": 83,
     "metadata": {},
     "output_type": "execute_result"
    },
    {
     "data": {
      "image/png": "[encoded data removed]",
      "text/plain": [
       "<Figure size 432x288 with 1 Axes>"
      ]
     },
     "metadata": {
      "needs_background": "light"
     },
     "output_type": "display_data"
    }
   ],
   "source": [
    "img = cv2.imread(r'E:\\IAMDAT\\Workplace\\DOANCUOIKY\\ok\\LisencePlateRecognition\\sub_images\\42.jpg')\n",
    "\n",
    "plt.imshow(get_plate(img))"
   ]
  },
  {
   "cell_type": "code",
   "execution_count": 86,
   "metadata": {},
   "outputs": [],
   "source": [
    "i = 42\n",
    "vehicle = cv2.imread('E:/IAMDAT/Workplace/DOANCUOIKY/ok/LisencePlateRecognition/sub_images/'+str(i)+'.jpg')\n",
    "plate = get_plate(vehicle)\n",
    "from sklearn.cluster import KMeans\n",
    "\n",
    "# model = KMeans(n_clusters=2).fit(plate.reshape((-1,1)))\n",
    "# plate = model.predict(plate.reshape((-1,1))).reshape(plate.shape)\n",
    "# if model.cluster_centers_[0]>model.cluster_centers_[1]:\n",
    "#     plate = 1-plate\n",
    "# plt.imshow(plate,'gray')\n",
    "\n"
   ]
  },
  {
   "cell_type": "code",
   "execution_count": 87,
   "metadata": {},
   "outputs": [
    {
     "data": {
      "text/plain": [
       "[([[6, 3], [57, 3], [57, 30], [6, 30]], '7152', 0.9739591859990898),\n",
       " ([[6, 24], [54, 24], [54, 48], [6, 48]], 'DBO1', 0.0934164896607399)]"
      ]
     },
     "execution_count": 87,
     "metadata": {},
     "output_type": "execute_result"
    }
   ],
   "source": [
    "reader.readtext(plate)\n"
   ]
  },
  {
   "cell_type": "code",
   "execution_count": 88,
   "metadata": {},
   "outputs": [],
   "source": [
    "sum_1 = applySummFunctin(plate, axis =1)\n",
    "sum_0 = applySummFunctin(plate, axis =0)"
   ]
  },
  {
   "cell_type": "code",
   "execution_count": 89,
   "metadata": {},
   "outputs": [
    {
     "data": {
      "text/plain": [
       "[<matplotlib.lines.Line2D at 0x2d53094c9a0>]"
      ]
     },
     "execution_count": 89,
     "metadata": {},
     "output_type": "execute_result"
    },
    {
     "data": {
      "image/png": "[encoded data removed]",
      "text/plain": [
       "<Figure size 432x288 with 1 Axes>"
      ]
     },
     "metadata": {
      "needs_background": "light"
     },
     "output_type": "display_data"
    }
   ],
   "source": [
    "plt.plot(sum_0)"
   ]
  },
  {
   "cell_type": "code",
   "execution_count": 90,
   "metadata": {},
   "outputs": [
    {
     "data": {
      "text/plain": [
       "[<matplotlib.lines.Line2D at 0x2d5529ef5e0>]"
      ]
     },
     "execution_count": 90,
     "metadata": {},
     "output_type": "execute_result"
    },
    {
     "data": {
      "image/png": "[encoded data removed]",
      "text/plain": [
       "<Figure size 432x288 with 1 Axes>"
      ]
     },
     "metadata": {
      "needs_background": "light"
     },
     "output_type": "display_data"
    }
   ],
   "source": [
    "plt.plot(sum_1)"
   ]
  },
  {
   "cell_type": "code",
   "execution_count": 91,
   "metadata": {},
   "outputs": [],
   "source": [
    "sum_1 = applySummFunctin(plate, axis =1)\n",
    "sum_0 = applySummFunctin(plate, axis =0)\n",
    "gds1 = GDS(sum_1)\n",
    "gds0 = GDS(sum_0)\n",
    "sub = plate[ gds1[0]:gds1[-1], gds0[0]:gds0[-1]]\n"
   ]
  },
  {
   "cell_type": "code",
   "execution_count": 92,
   "metadata": {},
   "outputs": [
    {
     "data": {
      "text/plain": [
       "[<matplotlib.lines.Line2D at 0x2d552a44ac0>]"
      ]
     },
     "execution_count": 92,
     "metadata": {},
     "output_type": "execute_result"
    },
    {
     "data": {
      "image/png": "[encoded data removed]",
      "text/plain": [
       "<Figure size 432x288 with 1 Axes>"
      ]
     },
     "metadata": {
      "needs_background": "light"
     },
     "output_type": "display_data"
    }
   ],
   "source": [
    "plt.plot(sum_1)"
   ]
  },
  {
   "cell_type": "code",
   "execution_count": 93,
   "metadata": {},
   "outputs": [
    {
     "data": {
      "text/plain": [
       "<matplotlib.image.AxesImage at 0x2d552a9fee0>"
      ]
     },
     "execution_count": 93,
     "metadata": {},
     "output_type": "execute_result"
    },
    {
     "data": {
      "image/png": "[encoded data removed]",
      "text/plain": [
       "<Figure size 432x288 with 1 Axes>"
      ]
     },
     "metadata": {
      "needs_background": "light"
     },
     "output_type": "display_data"
    }
   ],
   "source": [
    "plt.imshow(sub, 'gray')"
   ]
  },
  {
   "cell_type": "code",
   "execution_count": 94,
   "metadata": {},
   "outputs": [
    {
     "data": {
      "text/plain": [
       "[([[6, 3], [57, 3], [57, 30], [6, 30]], '7152', 0.9739591859990898),\n",
       " ([[6, 24], [54, 24], [54, 48], [6, 48]], 'DBO1', 0.0934164896607399)]"
      ]
     },
     "execution_count": 94,
     "metadata": {},
     "output_type": "execute_result"
    }
   ],
   "source": [
    "reader.readtext(plate)"
   ]
  },
  {
   "cell_type": "code",
   "execution_count": 95,
   "metadata": {},
   "outputs": [],
   "source": [
    "from sklearn.cluster import KMeans\n",
    "\n",
    "\n",
    "def splitLine(img):\n",
    "    kmeans = KMeans(n_clusters=2, random_state=0).fit(img.reshape((-1,1)))\n",
    "    predict = kmeans.predict(img.reshape((-1,1))).reshape(img.shape)\n",
    "    centers = kmeans.cluster_centers_\n",
    "    if centers[0]>centers[1]:\n",
    "        predict = 1-predict\n",
    "\n",
    "    s1 = applySummFunctin(img, axis =1)\n",
    "    lst_max = np.where(s1== max(s1))[0]\n",
    "    deadline = lst_max[int(len(lst_max)/2)]\n",
    "    line1 = predict[0:deadline,:]\n",
    "    line2 = predict[deadline:-1,:]\n",
    "    return line1, line2"
   ]
  },
  {
   "cell_type": "code",
   "execution_count": 96,
   "metadata": {},
   "outputs": [
    {
     "data": {
      "text/plain": [
       "<matplotlib.image.AxesImage at 0x2d552afd6d0>"
      ]
     },
     "execution_count": 96,
     "metadata": {},
     "output_type": "execute_result"
    },
    {
     "data": {
      "image/png": "[encoded data removed]",
      "text/plain": [
       "<Figure size 432x288 with 1 Axes>"
      ]
     },
     "metadata": {
      "needs_background": "light"
     },
     "output_type": "display_data"
    }
   ],
   "source": [
    "l1,l2 = splitLine(sub)\n",
    "plt.imshow(l1,'gray')"
   ]
  },
  {
   "cell_type": "code",
   "execution_count": 97,
   "metadata": {},
   "outputs": [
    {
     "data": {
      "text/plain": [
       "<matplotlib.image.AxesImage at 0x2d552b6a520>"
      ]
     },
     "execution_count": 97,
     "metadata": {},
     "output_type": "execute_result"
    },
    {
     "data": {
      "image/png": "[encoded data removed]",
      "text/plain": [
       "<Figure size 432x288 with 1 Axes>"
      ]
     },
     "metadata": {
      "needs_background": "light"
     },
     "output_type": "display_data"
    }
   ],
   "source": [
    "plt.imshow(l2,'gray')"
   ]
  },
  {
   "cell_type": "code",
   "execution_count": 98,
   "metadata": {},
   "outputs": [
    {
     "data": {
      "text/plain": [
       "<matplotlib.image.AxesImage at 0x2d552bc59a0>"
      ]
     },
     "execution_count": 98,
     "metadata": {},
     "output_type": "execute_result"
    },
    {
     "data": {
      "image/png": "[encoded data removed]",
      "text/plain": [
       "<Figure size 432x288 with 1 Axes>"
      ]
     },
     "metadata": {
      "needs_background": "light"
     },
     "output_type": "display_data"
    }
   ],
   "source": [
    "from sklearn.cluster import KMeans\n",
    "\n",
    "\n",
    "model = KMeans(n_clusters=2).fit(l2.reshape((-1,1)))\n",
    "binary = model.predict(l2.reshape(-1,1)).reshape(l2.shape)\n",
    "if model.cluster_centers_[0]>model.cluster_centers_[1]:\n",
    "    binary = 1-binary\n",
    "plt.imshow(binary,'gray')\n"
   ]
  },
  {
   "cell_type": "code",
   "execution_count": 99,
   "metadata": {},
   "outputs": [
    {
     "data": {
      "text/plain": [
       "[<matplotlib.lines.Line2D at 0x2d552c1ad60>]"
      ]
     },
     "execution_count": 99,
     "metadata": {},
     "output_type": "execute_result"
    },
    {
     "data": {
      "image/png": "[encoded data removed]",
      "text/plain": [
       "<Figure size 432x288 with 1 Axes>"
      ]
     },
     "metadata": {
      "needs_background": "light"
     },
     "output_type": "display_data"
    }
   ],
   "source": [
    "s0 = applySummFunctin(binary, axis =0)\n",
    "plt.plot(s0)"
   ]
  },
  {
   "cell_type": "code",
   "execution_count": 100,
   "metadata": {},
   "outputs": [],
   "source": [
    "def get_location_of_char(arr):\n",
    "    locations = []\n",
    "    lst = []\n",
    "    max= np.max(arr)\n",
    "    arr_tf =  arr>max-3\n",
    "    print(arr_tf)\n",
    "    for i in range(len(arr_tf)):\n",
    "        if arr_tf[i]==False:\n",
    "            lst.append(i)\n",
    "        elif arr_tf[i]==True:\n",
    "            if len(lst)<3:\n",
    "                lst = []\n",
    "            else:\n",
    "                locations.append([lst[0], lst[-1]])\n",
    "                lst = []\n",
    "\n",
    "    return locations\n"
   ]
  },
  {
   "cell_type": "code",
   "execution_count": 101,
   "metadata": {},
   "outputs": [
    {
     "name": "stdout",
     "output_type": "stream",
     "text": [
      "[False  True  True  True  True  True  True  True False False False False False False False  True  True  True  True False False False False False False False  True  True  True  True False False False False False False False  True  True  True  True  True False False False False False  True  True  True  True  True  True\n",
      "  True  True]\n"
     ]
    },
    {
     "data": {
      "text/plain": [
       "[[8, 14], [19, 25], [30, 36], [42, 46]]"
      ]
     },
     "execution_count": 101,
     "metadata": {},
     "output_type": "execute_result"
    }
   ],
   "source": [
    "gds = get_location_of_char(s0)\n",
    "gds\n"
   ]
  },
  {
   "cell_type": "code",
   "execution_count": 62,
   "metadata": {},
   "outputs": [],
   "source": [
    "chars = []\n",
    "for i in gds:\n",
    "    chars.append(l2[:,i[0]-1:i[1]+1]) "
   ]
  },
  {
   "cell_type": "code",
   "execution_count": 68,
   "metadata": {},
   "outputs": [
    {
     "data": {
      "text/plain": [
       "<matplotlib.image.AxesImage at 0x2d5278326d0>"
      ]
     },
     "execution_count": 68,
     "metadata": {},
     "output_type": "execute_result"
    },
    {
     "data": {
      "image/png": "[encoded data removed]",
      "text/plain": [
       "<Figure size 432x288 with 1 Axes>"
      ]
     },
     "metadata": {
      "needs_background": "light"
     },
     "output_type": "display_data"
    }
   ],
   "source": [
    "plt.imshow(chars[4],'gray')"
   ]
  },
  {
   "cell_type": "code",
   "execution_count": null,
   "metadata": {},
   "outputs": [],
   "source": []
  },
  {
   "cell_type": "code",
   "execution_count": null,
   "metadata": {},
   "outputs": [],
   "source": []
  },
  {
   "cell_type": "code",
   "execution_count": null,
   "metadata": {},
   "outputs": [],
   "source": []
  },
  {
   "cell_type": "code",
   "execution_count": 129,
   "metadata": {},
   "outputs": [
    {
     "name": "stderr",
     "output_type": "stream",
     "text": [
      "YOLOv5  2022-3-15 torch 1.11.0+cu113 CUDA:0 (Quadro M500M, 2048MiB)\n",
      "\n",
      "Fusing layers... \n",
      "Model Summary: 213 layers, 1760518 parameters, 0 gradients\n",
      "Adding AutoShape... \n"
     ]
    }
   ],
   "source": [
    "\n",
    "from sklearn.cluster import KMeans\n",
    "import cv2\n",
    "import numpy as np\n",
    "import torch\n",
    "\n",
    "device = torch.device('cuda' if torch.cuda.is_available() else \"cpu\")\n",
    "licensePlateModel = torch.hub.load(r'E:\\IAMDAT\\Workplace\\DOANCUOIKY\\ok\\yolov5', 'custom', path=r'E:\\IAMDAT\\Workplace\\DOANCUOIKY\\ok\\models\\best_lp.pt', source='local').to(device)\n",
    "\n",
    "img = cv2.imread(r'E:\\IAMDAT\\Workplace\\DOANCUOIKY\\ok\\LisencePlateRecognition\\sub_images\\7.jpg')\n",
    "\n",
    "\n",
    "\n",
    "\n",
    "def GDS(arr):\n",
    "    gds = []\n",
    "    mean = np.mean(arr)\n",
    "    std = np.std(arr)\n",
    "    th=3\n",
    "    p_max, p_min = mean+std, mean-std\n",
    "    for i in range(th, len(arr)-th):\n",
    "        if ((arr[i]<np.mean(arr[i-th:i]) and arr[i]>np.mean(arr[i:i+th])) or (arr[i]>np.mean(arr[i-th:i]) and arr[i]<np.mean(arr[i:i+th]))) and arr[i]<= p_max and arr[i]>=p_min:\n",
    "            gds.append(i)\n",
    "    return gds\n",
    "\n",
    "def applySummFunctin(img, axis = 1):\n",
    "    res = np.sum(img, axis = axis)    #  summ elements in columns\n",
    "    return res\n",
    "\n",
    "def get_plate(img):\n",
    "    img = cv2.cvtColor(img, cv2.COLOR_BGR2GRAY)\n",
    "    bbox = licensePlateModel(img).pandas().xyxy[0].to_numpy()\n",
    "    bbox = bbox[bbox[:,5]==max(bbox[:,5])][0]\n",
    "    xmin, ymin, xmax, ymax = bbox[0:4]\n",
    "    img_license_plate = img[int(ymin):int(ymax), int(xmin):int(xmax)]\t\n",
    "    return img_license_plate\n",
    "\n",
    "\n",
    "\n",
    "\n",
    "\n",
    "def change_to_binary(img):\n",
    "    kmeans = KMeans(n_clusters=2, random_state=0).fit(img.reshape((-1,1)))\n",
    "    predict = kmeans.predict(img.reshape((-1,1))).reshape(img.shape)\n",
    "    centers = kmeans.cluster_centers_\n",
    "    if centers[0]>centers[1]:\n",
    "        predict = 1-predict\n",
    "    return predict\n",
    "\n",
    "def splitLine(img):\n",
    "    \n",
    "    predict = change_to_binary(img)\n",
    "    s1 = applySummFunctin(img, axis =1)\n",
    "    lst_max = np.where(s1== max(s1))[0]\n",
    "    deadline = lst_max[int(len(lst_max)/2)]\n",
    "    line1_binary = predict[0:deadline,:]\n",
    "    line2_binary = predict[deadline:-1,:]\n",
    "    line1  = img[0:deadline,:]\n",
    "    line2 = img[deadline:-1,:]\n",
    "    return [line1, line2],[line1_binary, line2_binary]\n",
    "\n",
    "def get_location_of_char(arr):\n",
    "    locations = []\n",
    "    lst = []\n",
    "    max= np.max(arr)\n",
    "    arr_tf =  arr>max-5\n",
    "    print(arr_tf)\n",
    "    for i in range(len(arr_tf)):\n",
    "        if arr_tf[i]==False:\n",
    "            lst.append(i)\n",
    "        elif arr_tf[i]==True:\n",
    "            if len(lst)<3:\n",
    "                lst = []\n",
    "            else:\n",
    "                locations.append([lst[0], lst[-1]])\n",
    "                lst = []\n",
    "\n",
    "    return locations\n",
    "\n",
    "def getCharInPlate(img):\n",
    "    chars= []\n",
    "    plate = get_plate(img)\n",
    "\n",
    "    sum_1 = applySummFunctin(plate, axis =1)\n",
    "    sum_0 = applySummFunctin(plate, axis =0)\n",
    "    gds1 = GDS(sum_1)\n",
    "    gds0 = GDS(sum_0)\n",
    "    sub = plate[ gds1[0]:gds1[-1], gds0[0]:gds0[-1]]\n",
    "    if (sub.shape[0]/sub.shape[1])>(1/3):\n",
    "        lines, lines_b = splitLine(sub)\n",
    "    else:\n",
    "        lines, lines_b = [sub],[change_to_binary(sub)]\n",
    "    \n",
    "    for ind in range(len(lines)):\n",
    "        s0 = applySummFunctin(lines_b[ind], axis =0)\n",
    "        gds = get_location_of_char(s0)\n",
    "        for i in gds:\n",
    "            chars.append(lines[ind][:,i[0]-1:i[1]+1]) \n",
    "    return chars\n"
   ]
  },
  {
   "cell_type": "code",
   "execution_count": 135,
   "metadata": {},
   "outputs": [
    {
     "name": "stdout",
     "output_type": "stream",
     "text": [
      "[False False  True  True  True  True  True  True  True False False False False False False False False  True False False False False False False False  True  True  True  True  True  True  True  True  True  True False False False False False False False False  True False False False False False False False  True  True\n",
      "  True  True  True  True]\n",
      "[False False  True False False False False False False  True  True  True  True  True  True False False False  True  True  True  True  True  True False False False False False False False  True  True  True  True  True  True False False False False False False False  True  True  True  True False False False False False\n",
      " False False  True  True]\n"
     ]
    },
    {
     "data": {
      "text/plain": [
       "<matplotlib.image.AxesImage at 0x2d55447e160>"
      ]
     },
     "execution_count": 135,
     "metadata": {},
     "output_type": "execute_result"
    },
    {
     "data": {
      "image/png": "[encoded data removed]",
      "text/plain": [
       "<Figure size 432x288 with 1 Axes>"
      ]
     },
     "metadata": {
      "needs_background": "light"
     },
     "output_type": "display_data"
    }
   ],
   "source": [
    "plt.imshow(getCharInPlate(img)[5],'gray')"
   ]
  },
  {
   "cell_type": "code",
   "execution_count": null,
   "metadata": {},
   "outputs": [],
   "source": []
  }
 ],
 "metadata": {
  "interpreter": {
   "hash": "2c5162f4330e5a08843439af36f076d864bbc634ce564c8238d7f8c62bd127df"
  },
  "kernelspec": {
   "display_name": "Python 3.9.8 64-bit",
   "language": "python",
   "name": "python3"
  },
  "language_info": {
   "codemirror_mode": {
    "name": "ipython",
    "version": 3
   },
   "file_extension": ".py",
   "mimetype": "text/x-python",
   "name": "python",
   "nbconvert_exporter": "python",
   "pygments_lexer": "ipython3",
   "version": "3.9.8"
  },
  "orig_nbformat": 4
 },
 "nbformat": 4,
 "nbformat_minor": 2
}
